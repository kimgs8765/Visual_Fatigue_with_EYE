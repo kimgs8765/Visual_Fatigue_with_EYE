{
 "cells": [
  {
   "cell_type": "code",
   "execution_count": 11,
   "metadata": {},
   "outputs": [],
   "source": [
    "import os\n",
    "import glob\n",
    "import pandas as pd\n",
    "import numpy as np \n",
    "import pingouin as pg \n",
    "import matplotlib.pyplot as plt\n",
    "import warnings\n",
    "import seaborn as sns\n",
    "\n",
    "import warnings\n",
    "warnings.filterwarnings(\"ignore\")\n",
    "\n",
    "from sklearn.model_selection import train_test_split, GridSearchCV\n",
    "from sklearn.ensemble import RandomForestRegressor, GradientBoostingRegressor\n",
    "from sklearn.tree import DecisionTreeRegressor\n",
    "from sklearn.neighbors import KNeighborsRegressor\n",
    "from sklearn.svm import SVR\n",
    "from sklearn.linear_model import LinearRegression, Lasso, Ridge\n",
    "from sklearn.gaussian_process import GaussianProcessRegressor\n",
    "from sklearn.metrics import r2_score, mean_squared_error as MSE\n",
    "from sklearn.preprocessing import MinMaxScaler, StandardScaler \n",
    "\n",
    "\n"
   ]
  },
  {
   "cell_type": "markdown",
   "metadata": {},
   "source": [
    "Model\n",
    "\n",
    "RandomForest Regression  \n",
    "Decision Tree Regression  \n",
    "KNN Regrssion  \n",
    "SVR  \n",
    "LR  \n",
    "Lasso Regression     \n",
    "Rdige Regression  \n",
    "Rogistic Regression   \n"
   ]
  },
  {
   "cell_type": "code",
   "execution_count": 17,
   "metadata": {},
   "outputs": [],
   "source": [
    "\n",
    "# Define the models\n",
    "models = {\n",
    "    'RandomForest': RandomForestRegressor(),\n",
    "    'GradientBoosting': GradientBoostingRegressor(),\n",
    "    'DecisionTree': DecisionTreeRegressor(),\n",
    "    'KNN': KNeighborsRegressor(),\n",
    "    'SVR': SVR(),\n",
    "    'LinearRegression': LinearRegression(),\n",
    "    'Lasso': Lasso(),\n",
    "    'Ridge': Ridge(),\n",
    "    'GaussianProcess': GaussianProcessRegressor()\n",
    "}\n",
    "\n",
    "# Define the parameters for grid search for each model\n",
    "params = {\n",
    "    'RandomForest': {'n_estimators': [10, 50, 100, 200],\n",
    "                     'max_depth': [None, 5, 10, 20],\n",
    "                     'min_samples_split': [2, 5, 10],\n",
    "                     'min_samples_leaf': [1, 2, 4],},\n",
    "\n",
    "    'DecisionTree': {'splitter': ['best', 'random'],\n",
    "                     'max_depth': [None, 5, 10, 20],\n",
    "                     'min_samples_split': [2, 5, 10],\n",
    "                     'min_samples_leaf': [1, 2, 4]},\n",
    "\n",
    "    'GradientBoosting': {'n_estimators': [50, 100, 200],\n",
    "                         'learning_rate': [0.01, 0.1, 0.5],\n",
    "                         'max_depth': [3, 5, 7],\n",
    "                         'subsample': [0.5, 0.8, 1.0]},\n",
    "\n",
    "\n",
    "    'KNN': {'n_neighbors': [3, 5, 7, 10],},\n",
    "\n",
    "    'SVR': {'C': [0.1, 1, 10, 100],\n",
    "            'kernel': ['linear', 'poly', 'rbf', 'sigmoid']},\n",
    "\n",
    "    'GaussianProcess': {},\n",
    "\n",
    "    'LinearRegression': {},\n",
    "\n",
    "    'Lasso': {'alpha': [0.1, 1, 10, 100]},\n",
    "\n",
    "    'Ridge': {'alpha': [0.1, 1, 10, 100]}\n",
    "\n",
    "\n",
    "}"
   ]
  },
  {
   "cell_type": "code",
   "execution_count": 18,
   "metadata": {},
   "outputs": [
    {
     "data": {
      "text/plain": [
       "(52, 16)"
      ]
     },
     "execution_count": 18,
     "metadata": {},
     "output_type": "execute_result"
    }
   ],
   "source": [
    "curr_dir = os.getcwd()\n",
    "avg_dir = curr_dir +\"/AVG\" \n",
    "\n",
    "rating_data = pd.read_csv( avg_dir + \"/Dynamic_Rating.csv\", index_col=0).values\n",
    "rating_data.shape"
   ]
  },
  {
   "cell_type": "code",
   "execution_count": 32,
   "metadata": {},
   "outputs": [
    {
     "name": "stdout",
     "output_type": "stream",
     "text": [
      "avg_data\n",
      "(52, 8)\n"
     ]
    }
   ],
   "source": [
    "data_list = os.listdir(avg_dir)\n",
    "data_list = sorted([ data for data in data_list if not data.startswith(\".\") and data != 'Dynamic_Rating.csv' and not data.endswith(\".npy\")])\n",
    "\n",
    "avg_data = { str(x).split(sep=\".\")[0] : pd.read_csv(f\"{avg_dir}/{x}\", index_col=0).values for x in data_list}\n",
    "\n",
    "avg_arr = [ ]\n",
    "\n",
    "for ind, x in avg_data.items() : \n",
    "    # avg_arr.append(x.flatten()) \n",
    "    avg_arr.append(x.mean(axis=1)) # 52명 데이터를 평균내는 경우\n",
    "avg_arr = np.array(avg_arr).T\n",
    "\n",
    "# for key in avg_data.keys() : \n",
    "#     print (key)\n",
    "#     print(avg_data[key].shape)\n",
    "#     print(\"-\"*20)\n",
    "\n",
    "print(\"avg_data\")\n",
    "print(avg_arr.shape)"
   ]
  },
  {
   "cell_type": "code",
   "execution_count": 33,
   "metadata": {},
   "outputs": [
    {
     "name": "stdout",
     "output_type": "stream",
     "text": [
      "arr shape :  (52, 9)\n",
      "Dataframe shape : (52, 9)\n"
     ]
    }
   ],
   "source": [
    "# Dynamic ratign DF\n",
    "# arr = np.concatenate([avg_arr, rating_data.flatten().reshape(-1,1)], axis=1)\n",
    "arr = np.concatenate([avg_arr, rating_data.mean(axis=1).reshape(-1,1)], axis=1)\n",
    "print( \"arr shape : \", arr.shape)\n",
    "\n",
    "names = ['BK', 'FD', 'SCN','SCD', 'LIT', 'LPD', 'RIT', 'RPD', 'DR']\n",
    "df = pd.DataFrame(arr, columns= names ) \n",
    "print(\"Dataframe shape :\",df.shape)"
   ]
  },
  {
   "cell_type": "code",
   "execution_count": 34,
   "metadata": {},
   "outputs": [
    {
     "name": "stdout",
     "output_type": "stream",
     "text": [
      "Best parameters for RandomForest: {'max_depth': 5, 'min_samples_leaf': 2, 'min_samples_split': 2, 'n_estimators': 10}\n",
      "Best R2 for RandomForest: -0.82\n",
      "Best MSE for RandomForest: 1.00\n",
      "Best score for RandomForest: 0.20\n",
      "\n",
      "Best parameters for GradientBoosting: {'learning_rate': 0.01, 'max_depth': 3, 'n_estimators': 200, 'subsample': 0.5}\n",
      "Best R2 for GradientBoosting: -0.74\n",
      "Best MSE for GradientBoosting: 0.96\n",
      "Best score for GradientBoosting: 0.16\n",
      "\n",
      "Best parameters for DecisionTree: {'max_depth': None, 'min_samples_leaf': 2, 'min_samples_split': 5, 'splitter': 'random'}\n",
      "Best R2 for DecisionTree: -0.67\n",
      "Best MSE for DecisionTree: 0.92\n",
      "Best score for DecisionTree: 0.14\n",
      "\n",
      "Best parameters for KNN: {'n_neighbors': 5}\n",
      "Best R2 for KNN: -0.52\n",
      "Best MSE for KNN: 0.84\n",
      "Best score for KNN: 0.12\n",
      "\n",
      "Best parameters for SVR: {'C': 1, 'kernel': 'rbf'}\n",
      "Best R2 for SVR: -0.02\n",
      "Best MSE for SVR: 0.56\n",
      "Best score for SVR: 0.06\n",
      "\n",
      "Best parameters for LinearRegression: {}\n",
      "Best R2 for LinearRegression: 0.06\n",
      "Best MSE for LinearRegression: 0.52\n",
      "Best score for LinearRegression: 0.05\n",
      "\n",
      "Best parameters for Lasso: {'alpha': 0.1}\n",
      "Best R2 for Lasso: 0.06\n",
      "Best MSE for Lasso: 0.52\n",
      "Best score for Lasso: 0.05\n",
      "\n",
      "Best parameters for Ridge: {'alpha': 100}\n",
      "Best R2 for Ridge: 0.06\n",
      "Best MSE for Ridge: 0.52\n",
      "Best score for Ridge: 0.05\n",
      "\n",
      "Best parameters for GaussianProcess: {}\n",
      "Best R2 for GaussianProcess: -21412.55\n",
      "Best MSE for GaussianProcess: 11760.34\n",
      "Best score for GaussianProcess: -294270.86\n",
      "\n"
     ]
    }
   ],
   "source": [
    "# Load the dataset\n",
    "X, y = df[['BK']], df['DR']\n",
    "\n",
    "\n",
    "X_train, X_test, y_train, y_test = train_test_split(X, y, test_size=0.2, random_state=42)\n",
    "\n",
    "# Perform GridSearch for each model\n",
    "for model_name, model in models.items():\n",
    "    grid_search = GridSearchCV(model, params[model_name], cv=5, refit=True )\n",
    "    grid_search.fit(X_train, y_train)\n",
    "    pred = grid_search.best_estimator_.predict(X_test)\n",
    "    r2 = r2_score(y_test, pred)\n",
    "    mse = MSE(y_test, pred)\n",
    "    print(f\"Best parameters for {model_name}: {grid_search.best_params_}\")\n",
    "    print(f\"Best R2 for {model_name}: {r2:.2f}\")\n",
    "    print(f\"Best MSE for {model_name}: {mse:.2f}\")\n",
    "    print(f\"Best score for {model_name}: {grid_search.best_score_:.2f}\\n\")"
   ]
  },
  {
   "cell_type": "code",
   "execution_count": 44,
   "metadata": {},
   "outputs": [
    {
     "name": "stdout",
     "output_type": "stream",
     "text": [
      "[RandomForestRegressor()]\n",
      "R2 : -1.43\n",
      "MSE : 1.33\n",
      "--------------------------------------------------\n",
      "\n",
      "[DecisionTreeRegressor()]\n",
      "R2 : -2.22\n",
      "MSE : 1.77\n",
      "--------------------------------------------------\n",
      "\n",
      "[GradientBoostingRegressor()]\n",
      "R2 : -1.77\n",
      "MSE : 1.52\n",
      "--------------------------------------------------\n",
      "\n",
      "[KNeighborsRegressor()]\n",
      "R2 : -0.52\n",
      "MSE : 0.84\n",
      "--------------------------------------------------\n",
      "\n",
      "[SVR()]\n",
      "R2 : -0.02\n",
      "MSE : 0.56\n",
      "--------------------------------------------------\n",
      "\n",
      "[GaussianProcessRegressor()]\n",
      "R2 : -21412.55\n",
      "MSE : 11760.34\n",
      "--------------------------------------------------\n",
      "\n",
      "[LinearRegression()]\n",
      "R2 : 0.06\n",
      "MSE : 0.52\n",
      "--------------------------------------------------\n",
      "\n",
      "[Lasso()]\n",
      "R2 : 0.06\n",
      "MSE : 0.52\n",
      "--------------------------------------------------\n",
      "\n",
      "[Ridge()]\n",
      "R2 : 0.06\n",
      "MSE : 0.52\n",
      "--------------------------------------------------\n",
      "\n"
     ]
    }
   ],
   "source": [
    "RF = RandomForestRegressor()\n",
    "Tree = DecisionTreeRegressor()\n",
    "GB = GradientBoostingRegressor()\n",
    "knn = KNeighborsRegressor()\n",
    "svr = SVR()\n",
    "GP = GaussianProcessRegressor()\n",
    "LR = LinearRegression()\n",
    "lasso = Lasso()\n",
    "ridge = Ridge()\n",
    "\n",
    "MinMax = MinMaxScaler()\n",
    "STD = StandardScaler()\n",
    "\n",
    "estimators = [ RF, Tree, GB, knn, svr, GP, LR, lasso, ridge ]\n",
    "\n",
    "X, y = df[['BK']], df['DR']\n",
    "\n",
    "X_train, X_test, y_train, y_test = train_test_split(X, y, test_size=0.2, random_state=42)\n",
    "\n",
    "# X_train = MinMax.fit_transform(X_train)\n",
    "# X_test = MinMax.fit_transform(X_test)\n",
    "# X_train = STD.fit_transform(X_train)\n",
    "# X_test = STD.fit_transform(X_test)\n",
    "\n",
    "for estimator in estimators :\n",
    "    estimator.fit(X_train, y_train)\n",
    "    pred = estimator.predict(X_test)\n",
    "    r2 = r2_score(y_test, pred)\n",
    "    mse = MSE(y_test,pred)\n",
    "\n",
    "    print(f\"[{estimator}]\")\n",
    "    print(f\"R2 : {r2:.2f}\")\n",
    "    print(f\"MSE : {mse:.2f}\")\n",
    "    print(\"-\"*50 + \"\\n\")\n"
   ]
  },
  {
   "cell_type": "code",
   "execution_count": null,
   "metadata": {},
   "outputs": [],
   "source": [
    "# Load the dataset\n",
    "X, y = df[['BK', 'FD', 'SCN','SCD', 'LIT', 'LPD', 'RIT', 'RPD']], df['DR']\n",
    "X_train, X_test, y_train, y_test = train_test_split(X, y, test_size=0.2, random_state=42)\n",
    "\n",
    "# Perform GridSearch for each model\n",
    "for model_name, model in models.items():\n",
    "    grid_search = GridSearchCV(model, params[model_name], cv=5, refit=True, scoring='r2' )\n",
    "    grid_search.fit(X_train, y_train)\n",
    "    print(f\"Best parameters for {model_name}: {grid_search.best_params_}\")\n",
    "    print(f\"Best score for {model_name}: {grid_search.best_score_:.2f}\\n\")"
   ]
  },
  {
   "cell_type": "markdown",
   "metadata": {},
   "source": [
    "-----"
   ]
  },
  {
   "cell_type": "code",
   "execution_count": null,
   "metadata": {},
   "outputs": [],
   "source": [
    "data_list = os.listdir(avg_dir)\n",
    "data_list = sorted([ data for data in data_list if not data.startswith(\".\") and data != 'Dynamic_Rating.csv' and not data.endswith(\".npy\")])\n",
    "\n",
    "avg_data = { str(x).split(sep=\".\")[0] : pd.read_csv(f\"{avg_dir}/{x}\", index_col=0).values for x in data_list}\n",
    "\n",
    "avg_arr = [ ]\n",
    "\n",
    "for ind, x in avg_data.items() : \n",
    "    avg_arr.append(x.mean(axis=1)) # 52명 데이터를 평균내는 경우\n",
    "\n",
    "avg_arr = np.array(avg_arr).T\n",
    "\n",
    "# for key in avg_data.keys() : \n",
    "#     print (key)\n",
    "#     print(avg_data[key].shape)\n",
    "#     print(\"-\"*20)\n",
    "\n",
    "print(\"Avg_data\")\n",
    "print(avg_arr.shape)"
   ]
  },
  {
   "cell_type": "code",
   "execution_count": null,
   "metadata": {},
   "outputs": [],
   "source": [
    "# Dynamic ratign DF\n",
    "\n",
    "arr = np.concatenate([avg_arr, rating_data.mean(axis=1).reshape(-1,1)], axis=1) # 52명 데이터를 평균내는 경우\n",
    "print( \"arr shape : \", arr.shape)\n",
    "\n",
    "names = ['BK', 'FD', 'SCN','SCD', 'LIT', 'LPD', 'RIT', 'RPD', 'DR']\n",
    "df = pd.DataFrame(arr, columns= names ) # 52명 데이터를 평균내는 경우\n",
    "print(\"Dataframe shape :\",df.shape)"
   ]
  },
  {
   "cell_type": "code",
   "execution_count": null,
   "metadata": {},
   "outputs": [],
   "source": [
    "# SSQ 데이터 \n",
    "items = ['Bleary' , 'Dry_Eyed' , 'Eyestrain', 'Gritty', 'Eye_Ache', 'Sting', \\\n",
    "        'Heavy_Eyes', 'Hazy', 'Warm_Eyes', 'Flickering', 'Watery_Eyes', 'Feeling_heavy_in_the_head', 'Feel_heavy', \\\n",
    "        'Difficulty_concentrating', 'Dizzy', 'Stiff_shoulder', 'Stiff_neck', 'Sleepy', 'Vomiiting', 'Vertigo', 'Nausea', \\\n",
    "        'Difficulty_focussing', 'Double_vision', 'Near_vision_difficulty', \\\n",
    "        'Far_vision_difficulty', 'Pain_in_the_temple', 'Pain_in_the_middle_of_the_head', 'Pain_in_the_back_of_the_head' ]\n",
    "\n",
    "ssq_arr = np.load(avg_dir+\"/ssq.npy\")\n",
    "\n",
    "ssq_arr = ssq_arr[..., 1:]\n",
    "\n",
    "ssq_arr.shape"
   ]
  },
  {
   "cell_type": "code",
   "execution_count": null,
   "metadata": {},
   "outputs": [],
   "source": [
    "df[\"SSQ\"] = ssq_arr.mean(axis=(0,2))"
   ]
  },
  {
   "cell_type": "code",
   "execution_count": null,
   "metadata": {},
   "outputs": [],
   "source": [
    "# Load the dataset\n",
    "X, y = df[['BK', 'FD', 'SCN','SCD', 'LIT', 'LPD', 'RIT', 'RPD', 'SSQ']], df['DR']\n",
    "X_train, X_test, y_train, y_test = train_test_split(X, y, test_size=0.2, random_state=42)\n",
    "\n",
    "# Perform GridSearch for each model\n",
    "for model_name, model in models.items():\n",
    "    grid_search = GridSearchCV(model, params[model_name], cv=5, refit=True, scoring='r2' )\n",
    "    grid_search.fit(X_train, y_train)\n",
    "    print(f\"Best parameters for {model_name}: {grid_search.best_params_}\")\n",
    "    print(f\"Best score for {model_name}: {grid_search.best_score_:.2f}\\n\")"
   ]
  },
  {
   "cell_type": "markdown",
   "metadata": {},
   "source": [
    "----\n"
   ]
  },
  {
   "cell_type": "code",
   "execution_count": null,
   "metadata": {},
   "outputs": [],
   "source": [
    "for ind, ssq in enumerate(ssq_arr) : \n",
    "    print(f\"[{items[ind]}]\")\n",
    "    print(\"=\"*50)\n",
    "\n",
    "    X, y = df[['BK', 'FD', 'SCN','SCD', 'LIT', 'LPD', 'RIT', 'RPD']], ssq.mean(axis=1)\n",
    "    X_train, X_test, y_train, y_test = train_test_split(X, y, test_size=0.2, random_state=42)\n",
    "\n",
    "    # Perform GridSearch for each model\n",
    "    for model_name, model in models.items():\n",
    "        grid_search = GridSearchCV(model, params[model_name], cv=5, refit=True, scoring='r2' )\n",
    "        grid_search.fit(X_train, y_train)\n",
    "        print(f\"Best parameters for {model_name}: {grid_search.best_params_}\")\n",
    "        print(f\"Best score for {model_name}: {grid_search.best_score_:.2f}\\n\")\n",
    "    print(\"=\"*50)\n",
    "    print(\"\\n\")"
   ]
  }
 ],
 "metadata": {
  "kernelspec": {
   "display_name": "base",
   "language": "python",
   "name": "python3"
  },
  "language_info": {
   "codemirror_mode": {
    "name": "ipython",
    "version": 3
   },
   "file_extension": ".py",
   "mimetype": "text/x-python",
   "name": "python",
   "nbconvert_exporter": "python",
   "pygments_lexer": "ipython3",
   "version": "3.9.13"
  }
 },
 "nbformat": 4,
 "nbformat_minor": 2
}
