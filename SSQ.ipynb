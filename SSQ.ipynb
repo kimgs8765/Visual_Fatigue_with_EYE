{
 "cells": [
  {
   "cell_type": "code",
   "execution_count": 1,
   "metadata": {},
   "outputs": [],
   "source": [
    "import os\n",
    "import pandas as pd\n",
    "import numpy as np \n",
    "import pingouin as pg \n",
    "import matplotlib.pyplot as plt\n",
    "import warnings\n",
    "\n",
    "warnings.filterwarnings(\"ignore\")"
   ]
  },
  {
   "cell_type": "code",
   "execution_count": 2,
   "metadata": {},
   "outputs": [],
   "source": [
    "def get_data_dir(data_name : str) :\n",
    "    curr_dir = os.getcwd()\n",
    "    data_dir = curr_dir + \"/\" + data_name\n",
    "\n",
    "    return data_dir\n",
    "\n",
    "def get_data_dict( data_name ) :\n",
    "    data_dir = get_data_dir(data_name)\n",
    "    parti_list = os.listdir(data_dir)\n",
    "    parti_list = [ x for x in parti_list if not x.startswith(\".\")]\n",
    "    parti_dict = { x.split(sep='.')[0] : np.load(data_dir + \"/\" + x) if x.endswith(\".npy\") \\\n",
    "                  else pd.read_csv(data_dir + \"/\" + x, index_col=0 ).values for x in parti_list}\n",
    "\n",
    "    return parti_dict\n",
    "\n",
    "def dict_sort( data_dict ) : \n",
    "    sorted_dict = dict(sorted(data_dict.items()))\n",
    "\n",
    "    return sorted_dict\n",
    "\n",
    "def key_str2int( data_dict ) : \n",
    "    data_dict = { int(key.split(sep='_')[0]) : value for key, value in data_dict.items() }\n",
    "\n",
    "    return data_dict\n",
    "    \n",
    "\n",
    "def get_data_arr( data_dict) :\n",
    "    \n",
    "    data_dict = dict_sort(data_dict)\n",
    "\n",
    "    arr = [ value for key, value in data_dict.items() ]\n",
    "\n",
    "    arr = np.array(arr)\n",
    "\n",
    "    return arr\n",
    "\n",
    " \n",
    "items = ['Bleary' , 'Dry Eyed' , 'Eyestrain', 'Gritty', 'Eye-Ache', 'Sting', \\\n",
    "        'Heavy Eyes', 'Hazy', 'Warm Eyes', 'Flickering', 'Watery Eyes', 'Feeling heavy in the head', 'Feel heavy', \\\n",
    "        'Difficulty concentrating', 'Dizzy', 'Stiff shoulder', 'Stiff neck', 'Sleepy', 'Vomiiting', 'Vertigo', 'Nausea', \\\n",
    "        'Difficulty focussing', 'Double vision', 'Near vision difficulty', \\\n",
    "        'Far vision difficulty', 'Pain in the temple', 'Pain in the middle of the head', 'Pain in the back of the head' ]"
   ]
  },
  {
   "cell_type": "code",
   "execution_count": 3,
   "metadata": {},
   "outputs": [
    {
     "name": "stdout",
     "output_type": "stream",
     "text": [
      "-----------Sorted-----------\n",
      "(28, 5)\n",
      "(52, 28, 5)\n"
     ]
    }
   ],
   "source": [
    "ssq_dict = get_data_dict('SSQ')\n",
    "ssq_arr = get_data_arr(ssq_dict)\n",
    "\n",
    "\n",
    "\n",
    "print(\"-\"*11 + \"Sorted\" + \"-\"*11 )\n",
    "print(ssq_dict[next(iter(ssq_dict.keys()))].shape)\n",
    "print(ssq_arr.shape)\n"
   ]
  },
  {
   "cell_type": "code",
   "execution_count": 4,
   "metadata": {},
   "outputs": [
    {
     "name": "stdout",
     "output_type": "stream",
     "text": [
      "-----------Sorted-----------\n",
      "(28, 52, 5)\n"
     ]
    }
   ],
   "source": [
    "ssq_arr = ssq_arr.transpose(1,0,2)\n",
    "\n",
    "print(\"-\"*11 + \"Sorted\" + \"-\"*11 )\n",
    "print(ssq_arr.shape)\n"
   ]
  },
  {
   "cell_type": "code",
   "execution_count": 5,
   "metadata": {},
   "outputs": [
    {
     "name": "stdout",
     "output_type": "stream",
     "text": [
      "Dizzy\n",
      "[3.83959044] [0.01098357]\n",
      "---------------------------------------------------------------------------------------------------- \n",
      "\n",
      "      A     B      T  p-unc\n",
      "0  HMHB  HMLB  2.262  0.028\n",
      "1  HMHB  LMHB  2.638  0.011\n",
      "2  HMHB  LMLB  2.956  0.005\n",
      "3  HMLB  LMHB  0.960  0.342\n",
      "4  HMLB  LMLB  0.655  0.516\n",
      "5  LMHB  LMLB -0.188  0.851\n",
      "==================================================================================================== \n",
      "\n",
      "Vertigo\n",
      "[2.73112983] [0.0458583]\n",
      "---------------------------------------------------------------------------------------------------- \n",
      "\n",
      "      A     B      T  p-unc\n",
      "0  HMHB  HMLB  1.089  0.281\n",
      "1  HMHB  LMHB  2.479  0.017\n",
      "2  HMHB  LMLB  1.974  0.054\n",
      "3  HMLB  LMHB  1.586  0.119\n",
      "4  HMLB  LMLB  0.984  0.330\n",
      "5  LMHB  LMLB -0.820  0.416\n",
      "==================================================================================================== \n",
      "\n",
      "Nausea\n",
      "[3.95748436] [0.00943188]\n",
      "---------------------------------------------------------------------------------------------------- \n",
      "\n",
      "      A     B      T  p-unc\n",
      "0  HMHB  HMLB  1.979  0.053\n",
      "1  HMHB  LMHB  2.232  0.030\n",
      "2  HMHB  LMLB  4.205  0.000\n",
      "3  HMLB  LMHB  0.348  0.729\n",
      "4  HMLB  LMLB  1.386  0.172\n",
      "5  LMHB  LMLB  0.873  0.387\n",
      "==================================================================================================== \n",
      "\n",
      "Difficulty focussing\n",
      "[2.84202968] [0.03977083]\n",
      "---------------------------------------------------------------------------------------------------- \n",
      "\n",
      "      A     B      T  p-unc\n",
      "0  HMHB  HMLB  2.543  0.014\n",
      "1  HMHB  LMHB  1.194  0.238\n",
      "2  HMHB  LMLB  2.380  0.021\n",
      "3  HMLB  LMHB -1.197  0.237\n",
      "4  HMLB  LMLB -0.260  0.796\n",
      "5  LMHB  LMLB  1.000  0.322\n",
      "==================================================================================================== \n",
      "\n"
     ]
    }
   ],
   "source": [
    "for ind, value in enumerate(ssq_arr):\n",
    "    data = ssq_arr[ind][:,1:].flatten()\n",
    "    blocks = [ \"HMHB\", \"HMLB\", \"LMHB\", \"LMLB\"] * ssq_arr.shape[1]\n",
    "    names = np.repeat(np.arange(ssq_arr.shape[1]),4)\n",
    "\n",
    "    df = pd.DataFrame( { 'names' : names, 'rating' : data, 'blocks': blocks})\n",
    "    results = pg.rm_anova( data= df, dv='rating', within='blocks', subject='names', correction=True)\n",
    "\n",
    "    if results['p-unc'].values <= 0.05  :\n",
    "        post_hoc = pg.pairwise_tests(data= df, dv='rating', within='blocks', subject='names', padjust='bonf')\n",
    "        print(items[ind])\n",
    "        print(results['F'].values, results['p-unc'].values)\n",
    "        print(\"-\"*100,'\\n')\n",
    "        print(post_hoc[[\"A\", \"B\", \"T\",\"p-unc\"]].round(3))\n",
    "        print(\"=\"*100,'\\n')"
   ]
  },
  {
   "cell_type": "code",
   "execution_count": 6,
   "metadata": {},
   "outputs": [
    {
     "name": "stdout",
     "output_type": "stream",
     "text": [
      "AVG_SSQ\n",
      "[1.81812224] [0.14619522]\n",
      "---------------------------------------------------------------------------------------------------- \n",
      "\n",
      "      A     B     p-unc\n",
      "0  HMHB  HMLB  0.079104\n",
      "1  HMHB  LMHB  0.058432\n",
      "2  HMHB  LMLB  0.033112\n",
      "3  HMLB  LMHB  0.713083\n",
      "4  HMLB  LMLB  0.719171\n",
      "5  LMHB  LMLB  0.950616\n",
      "==================================================================================================== \n",
      "\n"
     ]
    }
   ],
   "source": [
    "data = ssq_arr.mean(axis=0)[:,1:].flatten()\n",
    "blocks = [ \"HMHB\", \"HMLB\", \"LMHB\", \"LMLB\"] * ssq_arr.shape[1]\n",
    "names = np.repeat(np.arange(ssq_arr.shape[1]),4)\n",
    "\n",
    "df = pd.DataFrame( { 'names' : names, 'rating' : data, 'blocks': blocks})\n",
    "results = pg.rm_anova( data= df, dv='rating', within='blocks', subject='names', correction=True)\n",
    "\n",
    "post_hoc = pg.pairwise_tests(data= df, dv='rating', within='blocks', subject='names', padjust='bonf')\n",
    "print(\"AVG_SSQ\")\n",
    "print(results['F'].values, results['p-unc'].values)\n",
    "print(\"-\"*100,'\\n')\n",
    "print(post_hoc[[\"A\", \"B\", \"p-unc\"]])\n",
    "print(\"=\"*100,'\\n')"
   ]
  },
  {
   "cell_type": "code",
   "execution_count": 7,
   "metadata": {},
   "outputs": [],
   "source": [
    "def singnificantLine(ax, x1, x2, y, text, font_size = 25, family_ = 'Times New Roman', weight_ ='bold' ):\n",
    "    ax.hlines(y, x1, x2, colors='gray', linestyles='solid')\n",
    "    ax.text( x1+x2/2, y, text, fontsize = font_size, family = family_, weight=weight_)"
   ]
  },
  {
   "cell_type": "code",
   "execution_count": 8,
   "metadata": {},
   "outputs": [
    {
     "data": {
      "image/png": "[encoded data removed]",
      "text/plain": [
       "<Figure size 500x400 with 1 Axes>"
      ]
     },
     "metadata": {},
     "output_type": "display_data"
    }
   ],
   "source": [
    "avg_ssq = ssq_arr.mean(axis=0)[:,1:].T\n",
    "\n",
    "se_ssq = [np.std(avg_ssq[ind]) / np.sqrt(52) for ind in range(len(avg_ssq))]\n",
    "\n",
    "fig = plt.figure(figsize=(5,4))\n",
    "\n",
    "colors = ['r', 'darkorange', 'b', 'darkgreen']\n",
    "block_names = ['HMHB','HMLB','LMHB','LMLB']\n",
    "font_dict = {'family': 'Times New Roman',\n",
    "      'color':  'black',\n",
    "      'weight': 'bold',\n",
    "      'size': 15,\n",
    "      'va' : 'center',\n",
    "      'ha' : 'center' }\n",
    "\n",
    "plt.bar(range(4), avg_ssq.mean(axis=1), color = colors , width=0.6)\n",
    "plt.xticks(range(4), block_names , fontsize = 20, family = \"Times New Roman\", weight='bold' );\n",
    "plt.ylabel(\"AVG SSQ value\", fontsize = 23,family = \"Times New Roman\", weight='bold' , labelpad = 20 );\n",
    "plt.yticks(range(1,8), range(1,8), fontsize=12, family ='Arial')\n",
    "plt.ylim(0,7)\n",
    "plt.errorbar(range(4), avg_ssq.mean(axis=1),yerr = se_ssq, linestyle = 'None',capsize=10, capthick=1,elinewidth=5, color='black'); \n",
    "#plt.text(-0.2,6.3,'(a)', ha ='center', fontsize = 20, family = 'Arial', weight='bold' ); \n",
    "\n",
    "# for i, blc in enumerate(avg_ssq.mean(axis=1)): \n",
    "#     plt.text(x = i, y= avg_ssq.mean(axis=1)[i] + 0.5, s= round(blc, 2), fontdict=font_dict, color='black')"
   ]
  },
  {
   "cell_type": "code",
   "execution_count": 9,
   "metadata": {},
   "outputs": [],
   "source": [
    "np.save( os.getcwd() + \"/AVG/SSQ.npy\", ssq_arr)"
   ]
  }
 ],
 "metadata": {
  "kernelspec": {
   "display_name": "base",
   "language": "python",
   "name": "python3"
  },
  "language_info": {
   "codemirror_mode": {
    "name": "ipython",
    "version": 3
   },
   "file_extension": ".py",
   "mimetype": "text/x-python",
   "name": "python",
   "nbconvert_exporter": "python",
   "pygments_lexer": "ipython3",
   "version": "3.9.13"
  },
  "orig_nbformat": 4
 },
 "nbformat": 4,
 "nbformat_minor": 2
}
